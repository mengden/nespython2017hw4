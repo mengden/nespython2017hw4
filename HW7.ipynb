{
 "cells": [
  {
   "cell_type": "markdown",
   "metadata": {},
   "source": [
    "# Домашнее задание 4"
   ]
  },
  {
   "cell_type": "markdown",
   "metadata": {},
   "source": [
    "Менгден Алексей, MAEE'19"
   ]
  },
  {
   "cell_type": "code",
   "execution_count": 1,
   "metadata": {
    "collapsed": true
   },
   "outputs": [],
   "source": [
    "import requests\n",
    "import re\n",
    "import zipfile\n",
    "import pandas as pd\n",
    "import os\n",
    "import numpy as np\n",
    "import sys\n",
    "from collections import Counter\n",
    "import warnings\n",
    "import urllib\n",
    "warnings.filterwarnings(\"ignore\")\n",
    "import matplotlib.pyplot as plt\n",
    "%matplotlib inline"
   ]
  },
  {
   "cell_type": "code",
   "execution_count": 2,
   "metadata": {},
   "outputs": [
    {
     "ename": "FileNotFoundError",
     "evalue": "[Errno 2] No such file or directory: '/Users/aleksej/Downloads/nespython2017hw4developer_survey_2017.zip'",
     "output_type": "error",
     "traceback": [
      "\u001b[0;31m---------------------------------------------------------------------------\u001b[0m",
      "\u001b[0;31mFileNotFoundError\u001b[0m                         Traceback (most recent call last)",
      "\u001b[0;32m<ipython-input-2-85fbd29fc858>\u001b[0m in \u001b[0;36m<module>\u001b[0;34m()\u001b[0m\n\u001b[1;32m      4\u001b[0m \u001b[0mpath\u001b[0m \u001b[0;34m=\u001b[0m \u001b[0mos\u001b[0m\u001b[0;34m.\u001b[0m\u001b[0mgetcwd\u001b[0m\u001b[0;34m(\u001b[0m\u001b[0;34m)\u001b[0m\u001b[0;34m\u001b[0m\u001b[0m\n\u001b[1;32m      5\u001b[0m \u001b[0mos\u001b[0m\u001b[0;34m.\u001b[0m\u001b[0mmakedirs\u001b[0m\u001b[0;34m(\u001b[0m\u001b[0mpath\u001b[0m\u001b[0;34m,\u001b[0m \u001b[0mexist_ok\u001b[0m \u001b[0;34m=\u001b[0m \u001b[0;32mTrue\u001b[0m\u001b[0;34m)\u001b[0m\u001b[0;34m\u001b[0m\u001b[0m\n\u001b[0;32m----> 6\u001b[0;31m \u001b[0mzf\u001b[0m \u001b[0;34m=\u001b[0m \u001b[0mzipfile\u001b[0m\u001b[0;34m.\u001b[0m\u001b[0mZipFile\u001b[0m\u001b[0;34m(\u001b[0m\u001b[0mpath\u001b[0m \u001b[0;34m+\u001b[0m \u001b[0mfilename\u001b[0m\u001b[0;34m)\u001b[0m\u001b[0;34m\u001b[0m\u001b[0m\n\u001b[0m\u001b[1;32m      7\u001b[0m \u001b[0;32mif\u001b[0m \u001b[0;32mnot\u001b[0m \u001b[0mos\u001b[0m\u001b[0;34m.\u001b[0m\u001b[0mpath\u001b[0m\u001b[0;34m.\u001b[0m\u001b[0misfile\u001b[0m\u001b[0;34m(\u001b[0m\u001b[0mpath\u001b[0m \u001b[0;34m+\u001b[0m \u001b[0mfilename\u001b[0m\u001b[0;34m)\u001b[0m\u001b[0;34m:\u001b[0m\u001b[0;34m\u001b[0m\u001b[0m\n\u001b[1;32m      8\u001b[0m         \u001b[0;32mwith\u001b[0m \u001b[0mopen\u001b[0m\u001b[0;34m(\u001b[0m\u001b[0mfilepath\u001b[0m\u001b[0;34m,\u001b[0m \u001b[0;34m\"wb\"\u001b[0m\u001b[0;34m)\u001b[0m \u001b[0;32mas\u001b[0m \u001b[0mfile\u001b[0m\u001b[0;34m:\u001b[0m\u001b[0;34m\u001b[0m\u001b[0m\n",
      "\u001b[0;32m/Users/aleksej/anaconda/lib/python3.6/zipfile.py\u001b[0m in \u001b[0;36m__init__\u001b[0;34m(self, file, mode, compression, allowZip64)\u001b[0m\n\u001b[1;32m   1080\u001b[0m             \u001b[0;32mwhile\u001b[0m \u001b[0;32mTrue\u001b[0m\u001b[0;34m:\u001b[0m\u001b[0;34m\u001b[0m\u001b[0m\n\u001b[1;32m   1081\u001b[0m                 \u001b[0;32mtry\u001b[0m\u001b[0;34m:\u001b[0m\u001b[0;34m\u001b[0m\u001b[0m\n\u001b[0;32m-> 1082\u001b[0;31m                     \u001b[0mself\u001b[0m\u001b[0;34m.\u001b[0m\u001b[0mfp\u001b[0m \u001b[0;34m=\u001b[0m \u001b[0mio\u001b[0m\u001b[0;34m.\u001b[0m\u001b[0mopen\u001b[0m\u001b[0;34m(\u001b[0m\u001b[0mfile\u001b[0m\u001b[0;34m,\u001b[0m \u001b[0mfilemode\u001b[0m\u001b[0;34m)\u001b[0m\u001b[0;34m\u001b[0m\u001b[0m\n\u001b[0m\u001b[1;32m   1083\u001b[0m                 \u001b[0;32mexcept\u001b[0m \u001b[0mOSError\u001b[0m\u001b[0;34m:\u001b[0m\u001b[0;34m\u001b[0m\u001b[0m\n\u001b[1;32m   1084\u001b[0m                     \u001b[0;32mif\u001b[0m \u001b[0mfilemode\u001b[0m \u001b[0;32min\u001b[0m \u001b[0mmodeDict\u001b[0m\u001b[0;34m:\u001b[0m\u001b[0;34m\u001b[0m\u001b[0m\n",
      "\u001b[0;31mFileNotFoundError\u001b[0m: [Errno 2] No such file or directory: '/Users/aleksej/Downloads/nespython2017hw4developer_survey_2017.zip'"
     ]
    }
   ],
   "source": [
    "url = 'https://drive.google.com/uc?export= download&id=0B6ZlG_Eygdj-c1kzcmUxN05VUXM'\n",
    "response = requests.get(url) \n",
    "filename = re.findall(\"filename=\\\"(.*?\\.zip)\", response.headers['content-disposition'] )[0]\n",
    "path = os.getcwd()\n",
    "os.makedirs(path, exist_ok = True)\n",
    "zf = zipfile.ZipFile(path + filename)\n",
    "if not os.path.isfile(path + filename):\n",
    "        with open(filepath, \"wb\") as file:\n",
    "            file.write(response.content)\n",
    "public_csv = pd.read_csv(zf.open('survey_results_public.csv'))\n",
    "schema_csv = pd.read_csv(zf.open('survey_results_schema.csv'))"
   ]
  },
  {
   "cell_type": "markdown",
   "metadata": {},
   "source": [
    "## 1."
   ]
  },
  {
   "cell_type": "markdown",
   "metadata": {},
   "source": [
    "Сколько вопросов было в опросе? "
   ]
  },
  {
   "cell_type": "code",
   "execution_count": null,
   "metadata": {},
   "outputs": [],
   "source": [
    "schema_csv.shape[0]"
   ]
  },
  {
   "cell_type": "markdown",
   "metadata": {},
   "source": [
    "Сколько разработчиков приняло участие в нем?"
   ]
  },
  {
   "cell_type": "code",
   "execution_count": null,
   "metadata": {},
   "outputs": [],
   "source": [
    "public_csv['Respondent'].unique().shape[0]"
   ]
  },
  {
   "cell_type": "markdown",
   "metadata": {},
   "source": [
    "## 2."
   ]
  },
  {
   "cell_type": "markdown",
   "metadata": {},
   "source": [
    "Покажите число участников опроса по странам и выведите 10 стран с наибольшим числом респондентов"
   ]
  },
  {
   "cell_type": "code",
   "execution_count": null,
   "metadata": {},
   "outputs": [],
   "source": [
    "public_csv.groupby('Country')['Country'].agg(len).sort_values()[::-1][:10]"
   ]
  },
  {
   "cell_type": "markdown",
   "metadata": {},
   "source": [
    "Их доля в общем количестве"
   ]
  },
  {
   "cell_type": "code",
   "execution_count": null,
   "metadata": {
    "scrolled": true
   },
   "outputs": [],
   "source": [
    "public_csv.groupby('Country')['Country'].agg(len).sort_values()[::-1][:10] / len(public_csv)"
   ]
  },
  {
   "cell_type": "markdown",
   "metadata": {},
   "source": [
    "## 3."
   ]
  },
  {
   "cell_type": "markdown",
   "metadata": {},
   "source": [
    "Берем данные с Wikipedia о численности населения стран (1 способ: просто копируем таблицу, другой способ в Приложении)"
   ]
  },
  {
   "cell_type": "code",
   "execution_count": null,
   "metadata": {
    "collapsed": true
   },
   "outputs": [],
   "source": [
    "table = \"\"\"1\t China[Note 2]\t1,389,170,000\tFebruary 11, 2018\t18.3%\tOfficial population clock\n",
    "2\t India[Note 3]\t1,327,770,000\tFebruary 11, 2018\t17.5%\tOfficial population clock\n",
    "3\t United States[Note 4]\t326,610,000\tFebruary 11, 2018\t4.3%\tOfficial population clock\n",
    "4\t Indonesia\t261,890,900\tJuly 1, 2017\t3.45%\tOfficial annual projection\n",
    "5\t Pakistan\t210,553,000\tFebruary 11, 2018\t2.77%\tOfficial population clock\n",
    "6\t Brazil\t208,646,000\tFebruary 11, 2018\t2.74%\tOfficial population clock\n",
    "7\t Nigeria\t193,392,500\tMarch 21, 2016\t2.54%\tAnnual official estimate\n",
    "8\t Bangladesh\t163,978,000\tFebruary 11, 2018\t2.16%\tOfficial population clock\n",
    "9\t Russian Federation\t146,877,088\tJanuary 1, 2018\t1.93%\tOfficial estimate\n",
    "10\t Japan\t126,590,000\tJanuary 1, 2018\t1.67%\tMonthly provisional estimate\n",
    "11\t Mexico\t123,675,351\tOctober 1, 2017\t1.63%\tOfficial projection\n",
    "12\t Philippines\t105,422,000\tFebruary 11, 2018\t1.39%\tOfficial population clock\n",
    "13\t Egypt\t96,481,300\tFebruary 11, 2018\t1.27%\tOfficial population clock\n",
    "14\t Ethiopia\t94,352,000\tJuly 1, 2017\t1.24%\tOfficial projection\n",
    "15\t Vietnam\t93,700,000\tJuly 1, 2017\t1.23%\tAnnual official projection\n",
    "16\t Germany\t82,521,653\tDecember 31, 2016\t1.09%\tOfficial annual data\n",
    "17\t Democratic Republic of the Congo\t81,339,900\tJuly 1, 2017\t1.07%\tUN Projection\n",
    "18\t Iran\t81,200,300\tFebruary 11, 2018\t1.07%\tOfficial population clock\n",
    "19\t Turkey\t80,810,525\tDecember 31, 2017\t1.06%\tOfficial annual estimate\n",
    "20\t France[Note 6]\t67,201,000\tDecember 1, 2017\t0.88%\tMonthly official estimate\n",
    "21\t Thailand\t66,061,000\tJuly 1, 2017\t0.87%\tOfficial annual projection\n",
    "22\t United Kingdom[Note 7]\t65,648,000\tJuly 1, 2016\t0.86%\tOfficial mid-year estimate\n",
    "23\t Italy\t60,498,707\tSeptember 30, 2017\t0.8%\tMonthly official estimate\n",
    "24\t South Africa\t56,717,000\tJuly 1, 2017\t0.75%\tAnnual official estimate\n",
    "25\t Myanmar\t53,370,609\tJuly 1, 2017\t0.7%\tUN projection\n",
    "26\t Tanzania[Note 8]\t51,557,365\tJuly 1, 2017\t0.68%\tOfficial annual projection\n",
    "27\t South Korea\t51,446,201\tJuly 1, 2017\t0.68%\tAnnual official estimate\n",
    "28\t Kenya\t49,699,862\tJuly 1, 2017\t0.65%\tUN projection\n",
    "29\t Colombia\t49,625,900\tFebruary 11, 2018\t0.653%\tOfficial population clock\n",
    "30\t Spain\t46,549,045\tJuly 1, 2017\t0.61%\tOfficial estimate\n",
    "31\t Argentina\t44,044,811\tJuly 1, 2017\t0.58%\tOfficial annual projection\n",
    "32\t Ukraine[Note 9]\t42,403,027\tDecember 1, 2017\t0.56%\tMonthly official estimate\n",
    "33\t Algeria\t41,697,498\tJuly 1, 2017\t0.55%\tOfficial annual projection\n",
    "34\t Sudan\t40,782,742\tJuly 1, 2017\t0.54%\tOfficial annual projection\n",
    "35\t Poland\t38,422,346\tJune 30, 2017\t0.51%\tOfficial estimate\n",
    "36\t Iraq\t38,274,618\tJuly 1, 2017\t0.5%\tUN projection\n",
    "37\t Uganda\t37,673,800\tJuly 1, 2017\t0.5%\tOfficial annual projection\n",
    "38\t Canada\t37,014,700\tFebruary 11, 2018\t0.487%\tOfficial estimate\n",
    "39\t Morocco[Note 10]\t34,577,800\tFebruary 11, 2018\t0.455%\tOfficial annual projection\n",
    "40\t Saudi Arabia\t32,612,641\tJuly 1, 2017\t0.43%\tAnnual official estimate\n",
    "41\t Malaysia\t32,400,700\tFebruary 11, 2018\t0.426%\tOfficial population clock\n",
    "42\t Uzbekistan\t32,345,000\tJuly 1, 2017\t0.43%\tOfficial population report\n",
    "43\t Peru\t31,826,018\tJuly 1, 2017\t0.42%\tOfficial estimate\n",
    "44\t Venezuela\t31,431,164\tJuly 1, 2017\t0.41%\tOfficial annual projection\n",
    "45\t Afghanistan\t29,724,323\tJuly 1, 2017\t0.39%\tAnnual official estimate\n",
    "46\t Ghana\t28,956,587\tJuly 1, 2017\t0.38%\tOfficial annual projection\n",
    "47\t Mozambique\t28,861,863\tAugust 1, 2017\t0.38%\tOfficial census result\n",
    "48\t Nepal\t28,825,709\tJuly 1, 2017\t0.38%\tOfficial annual projection\n",
    "49\t Angola\t28,359,634\tJanuary 1, 2017\t0.37%\tOfficial Estimate\n",
    "50\t Yemen\t28,250,000\tJuly 1, 2017\t0.37%\tUN projection\n",
    "51\t Madagascar\t25,571,000\tJuly 1, 2017\t0.34%\tUN projection\n",
    "52\t North Korea\t25,491,000\tJuly 1, 2017\t0.34%\tUN projection\n",
    "53\t Australia\t24,808,100\tFebruary 11, 2018\t0.326%\tOfficial population clock\n",
    "54\t Ivory Coast\t24,294,750\tJuly 1, 2017\t0.32%\tUN projection\n",
    "55\t Taiwan[Note 11]\t23,571,227\tDecember 1, 2017\t0.31%\tMonthly official estimate\n",
    "56\t Cameroon\t23,248,044\tJanuary 1, 2017\t0.31%\tAnnual official projection\n",
    "57\t Sri Lanka\t21,444,000\tJuly 1, 2017\t0.28%\tOfficial estimate\n",
    "58\t Niger\t20,651,070\tJuly 1, 2017\t0.27%\tAnnual official projection\n",
    "59\t Romania\t19,638,000\tJanuary 1, 2017\t0.26%\tAnnual official estimate\n",
    "60\t Burkina Faso\t19,632,147\tJuly 1, 2017\t0.26%\tAnnual official projection\n",
    "61\t Mali\t18,542,000\tJuly 1, 2017\t0.24%\tUN projection\n",
    "62\t Syria\t18,270,000\tJuly 1, 2017\t0.24%\tUN projection\n",
    "63\t Kazakhstan\t18,137,300\tDecember 1, 2017\t0.24%\tOfficial estimate\n",
    "64\t Chile\t17,574,003\tApril 19, 2017\t0.23%\tFinal or definitive 2017 census result\n",
    "65\t Malawi\t17,373,185\tJuly 1, 2017\t0.23%\tAnnual official projection\n",
    "66\t Netherlands\t17,195,700\tFebruary 11, 2018\t0.226%\tOfficial population clock\n",
    "67\t Ecuador\t16,928,900\tFebruary 11, 2018\t0.223%\tOfficial population clock\n",
    "68\t Zambia\t16,405,229\tJuly 1, 2017\t0.22%\tOfficial annual projection\n",
    "69\t Guatemala\t16,176,133\tJuly 1, 2015\t0.21%\tOfficial estimate\n",
    "70\t Cambodia\t15,848,495\tJuly 1, 2017\t0.21%\tOfficial annual projection\n",
    "71\t Senegal\t15,726,037\tJanuary 1, 2018\t0.21%\tOfficial annual projection\n",
    "72\t Chad\t14,900,000\tJuly 1, 2017\t0.2%\tUN projection\n",
    "73\t Somalia[Note 12]\t14,742,523\tJuly 1, 2017\t0.19%\tUN projection\n",
    "74\t Zimbabwe\t14,542,235\tJuly 1, 2017\t0.19%\tOfficial annual projection\n",
    "75\t South Sudan\t11,868,209\tJuly 1, 2017\t0.16%\tOfficial annual projection\n",
    "76\t Rwanda\t11,809,300\tJuly 1, 2017\t0.16%\tOfficial projection (medium scenario)\n",
    "77\t Guinea\t11,702,692\tJuly 1, 2017\t0.15%\tOfficial annual projection\n",
    "78\t Tunisia\t11,446,300\tJuly 1, 2017\t0.15%\tOfficial estimate\n",
    "79\t Belgium\t11,399,335\tDecember 1, 2017\t0.15%\tMonthly official estimate\n",
    "80\t Cuba\t11,239,224\tDecember 31, 2016\t0.15%\tAnnual official estimate\n",
    "81\t Bolivia\t11,145,770\tJuly 1, 2017\t0.15%\tOfficial projection\n",
    "82\t Benin\t11,002,578\tJuly 1, 2017\t0.14%\tOfficial projection\n",
    "83\t Haiti\t10,911,819\tMarch 31, 2015\t0.14%\tOfficial estimate\n",
    "84\t Greece\t10,768,193\tJanuary 1, 2017\t0.14%\tOfficial estimate\n",
    "85\t Czech Republic\t10,597,473\tSeptember 30, 2017\t0.14%\tOfficial quarterly estimate\n",
    "86\t Burundi\t10,400,938\tJuly 1, 2017\t0.14%\tOfficial annual projection\n",
    "87\t Portugal\t10,309,573\tDecember 31, 2016\t0.14%\tAnnual official estimate\n",
    "88\t Dominican Republic\t10,169,172\tJuly 1, 2017\t0.13%\tOfficial projection\n",
    "89\t Sweden\t10,112,669\tNovember 30, 2017\t0.13%\tOfficial monthly estimate\n",
    "90\t Jordan\t10,071,280\tFebruary 11, 2018\t0.132%\tOfficial population clock\n",
    "91\t Azerbaijan\t9,867,250\tSeptember 1, 2017\t0.13%\tOfficial estimate\n",
    "92\t Hungary\t9,797,561\tJanuary 1, 2017\t0.13%\tAnnual official estimate\n",
    "93\t Belarus\t9,495,800\tOctober 1, 2017\t0.12%\tOfficial quarterly estimate\n",
    "94\t United Arab Emirates\t9,400,000\tJuly 1, 2017\t0.12%\tUN projection\n",
    "95\t Honduras\t8,866,351\tJuly 1, 2017\t0.12%\tOfficial annual projection\n",
    "96\t Tajikistan\t8,829,300\tJuly 1, 2017\t0.12%\tOfficial estimate\n",
    "97\t Austria\t8,823,054\tJanuary 1, 2018\t0.12%\tQuarterly provisional figure\n",
    "98\t Israel\t8,815,520\tFebruary 11, 2018\t0.116%\tOfficial population clock\n",
    "99\t Switzerland\t8,465,234\tSeptember 30, 2017\t0.11%\tQuarterly provisional figure\n",
    "100\t Papua New Guinea\t8,151,300\tJuly 1, 2016\t0.11%\tAnnual official estimate\n",
    "–\t Hong Kong\t7,389,500\tJuly 1, 2017\t0.097%\tOfficial estimate\n",
    "101\t Togo\t7,178,000\tJuly 1, 2017\t0.094%\tOfficial estimate\n",
    "102\t Bulgaria\t7,101,859\tDecember 31, 2016\t0.093%\tOfficial estimate\n",
    "103\t Sierra Leone\t7,092,113\tDecember 4, 2015\t0.093%\tFinal 2015 census result\n",
    "104\t Paraguay\t7,052,983\tJanuary 1, 2018\t0.093%\tOfficial estimate\n",
    "105\t Serbia[Note 13]\t7,040,272\tJanuary 1, 2017\t0.093%\tAnnual official estimate\n",
    "106\t El Salvador\t6,581,940\tJuly 1, 2017\t0.087%\tOfficial projection\n",
    "107\t Laos\t6,492,400\tMarch 1, 2015\t0.085%\tPreliminary 2015 census result\n",
    "108\t Libya\t6,374,616\tJuly 1, 2017\t0.084%\tUN projection\n",
    "109\t Nicaragua\t6,305,956\tJuly 1, 2017\t0.083%\tOfficial estimate\n",
    "110\t Kyrgyzstan\t6,140,200\tJanuary 1, 2017\t0.081%\tOfficial estimate\n",
    "111\t Lebanon\t6,082,000\tJuly 1, 2017\t0.08%\tUN projection\n",
    "112\t Denmark\t5,778,570\tOctober 1, 2017\t0.076%\tOfficial quarterly estimate\n",
    "113\t Turkmenistan\t5,758,000\tJuly 1, 2017\t0.076%\tUN projection\n",
    "114\t Singapore\t5,612,300\tJuly 1, 2017\t0.074%\tOfficial estimate\n",
    "115\t Finland\t5,509,984\tSeptember 30, 2017\t0.072%\tMonthly official estimate\n",
    "116\t Slovak Republic\t5,441,899\tSeptember 30, 2017\t0.072%\tOfficial estimate\n",
    "117\t Norway\t5,290,288\tOctober 1, 2017\t0.07%\tOfficial quarterly estimate\n",
    "118\t Republic of the Congo\t5,260,750\tJuly 1, 2017\t0.069%\tUN projection\n",
    "119\t Eritrea\t5,068,831\tJuly 1, 2017\t0.067%\tUN projection\n",
    "120\t Costa Rica\t4,947,490\tJune 30, 2017\t0.065%\tOfficial estimate\n",
    "121\t New Zealand\t4,855,440\tFebruary 11, 2018\t0.0639%\tOfficial population clock\n",
    "122\t Palestine\t4,816,503\tJuly 1, 2016\t0.063%\tOfficial estimate\n",
    "123\t Ireland\t4,792,500\tApril 1, 2017\t0.063%\tOfficial estimate 2017 census result\n",
    "124\t Central African Republic\t4,659,080\tJuly 1, 2017\t0.061%\tUN projection\n",
    "125\t Oman\t4,639,678\tDecember 1, 2017\t0.061%\tOfficial estimate\n",
    "126\t Liberia\t4,289,520\tJuly 1, 2017\t0.056%\tOfficial projection[Note 14]\n",
    "127\t Croatia\t4,154,213\tDecember 31, 2016\t0.055%\tAnnual official estimate\n",
    "128\t Kuwait\t4,132,415\tJuly 1, 2016\t0.054%\tOfficial estimate\n",
    "129\t Panama\t4,098,135\tJuly 1, 2017\t0.054%\tOfficial estimate\n",
    "130\t Mauritania\t3,806,719\tJuly 1, 2017\t0.05%\tAnnual official projection\n",
    "131\t Georgia[Note 15]\t3,718,200\tJanuary 1, 2017\t0.049%\tAnnual official estimate\n",
    "132\t Moldova[Note 16]\t3,550,900\tJanuary 1, 2017\t0.047%\tOfficial estimate\n",
    "133\t Bosnia and Herzegovina\t3,511,372\tJuly 1, 2016\t0.046%\tOfficial estimate\n",
    "134\t Uruguay\t3,493,205\tJune 30, 2017\t0.046%\tAnnual official projection\n",
    "–\t Puerto Rico (U.S.)\t3,411,307\tJuly 1, 2016\t0.045%\tOfficial estimate\n",
    "135\t Mongolia\t3,194,950\tFebruary 11, 2018\t0.042%\tOfficial population clock\n",
    "136\t Armenia\t2,979,600\tSeptember 30, 2017\t0.039%\tOfficial quarterly estimate\n",
    "137\t Albania\t2,876,591\tJanuary 1, 2017\t0.038%\tAnnual official estimate\n",
    "138\t Lithuania\t2,807,495\tFebruary 1, 2018\t0.037%\tMonthly official estimate\n",
    "139\t Jamaica\t2,730,894\tDecember 31, 2016\t0.036%\tOfficial estimate\n",
    "140\t Qatar\t2,634,234\tSeptember 30, 2017\t0.035%\tMonthly official estimate\n",
    "141\t Namibia\t2,368,747\tJuly 1, 2017\t0.031%\tOfficial projection\n",
    "142\t Lesotho\t2,233,339\tJuly 1, 2017\t0.029%\tUN projection\n",
    "143\t Botswana\t2,230,905\tJuly 1, 2016\t0.029%\tOfficial annual projection\n",
    "144\t The Gambia\t2,101,000\tJuly 1, 2017\t0.028%\tUN projection\n",
    "145\t Macedonia\t2,073,702\tDecember 31, 2016\t0.027%\tOfficial estimate\n",
    "146\t Slovenia\t2,065,895\tJanuary 1, 2017\t0.027%\tOfficial estimate\n",
    "147\t Gabon\t2,025,137\tJuly 1, 2017\t0.027%\tUN projection\n",
    "148\t Latvia\t1,929,900\tJanuary 1, 2018\t0.025%\tMonthly official estimate\n",
    "–\t Kosovo[Note 17]\t1,783,531\tDecember 31, 2016\t0.023%\tOfficial annual projection\n",
    "149\t Guinea-Bissau\t1,553,822\tJuly 1, 2017\t0.02%\tOfficial annual projection\n",
    "150\t Bahrain\t1,451,200\tJuly 1, 2017\t0.019%\tOfficial annual projection\n",
    "151\t Trinidad and Tobago\t1,356,633\tJuly 1, 2017\t0.018%\tOfficial estimate\n",
    "152\t Estonia\t1,352,320\tJanuary 1, 2017\t0.018%\tOfficial estimate\n",
    "153\t Mauritius\t1,263,820\tDecember 31, 2016\t0.017%\tOfficial estimate\n",
    "154\t Equatorial Guinea\t1,222,442\tJuly 4, 2015\t0.016%\tPreliminary 2015 census result\n",
    "155\t East Timor\t1,167,242\tJuly 11, 2015\t0.015%\tPreliminary 2015 census result\n",
    "156\t Swaziland\t1,145,970\tJuly 1, 2017\t0.015%\tOfficial projection\n",
    "157\t Djibouti\t956,985\tJuly 1, 2017\t0.013%\tUN projection\n",
    "158\t Fiji\t884,887\tSeptember 17, 2017\t0.012%\tOfficial census result\n",
    "159\t Cyprus\t854,800\tDecember 31, 2016\t0.011%\tOfficial estimate\n",
    "160\t Comoros\t806,153\tJuly 1, 2016\t0.011%\tOfficial estimate\n",
    "161\t Bhutan\t796,570\tFebruary 11, 2018\t0.01%\tOfficial population clock\n",
    "162\t Guyana\t777,859\tJuly 1, 2017\t0.0102%\tUN projection\n",
    "163\t Solomon Islands\t651,700\tJuly 1, 2016\t0.0086%\tAnnual official estimate\n",
    "–\t Macau (China)\t648,500\tSeptember 30, 2017\t0.0085%\tOfficial quarterly estimate\n",
    "164\t Montenegro\t622,387\tJanuary 1, 2017\t0.0082%\tOfficial estimate\n",
    "165\t Luxembourg\t590,667\tJanuary 1, 2017\t0.0078%\tOfficial estimate\n",
    "–\t Western Sahara[Note 18]\t552,628\tJuly 1, 2017\t0.0073%\tUN projection\n",
    "166\t Suriname\t541,638\tAugust 13, 2012\t0.0071%\tFinal 2012 census result\n",
    "167\t Cape Verde\t537,661\tJuly 1, 2017\t0.0071%\tOfficial annual projection\n",
    "–\t Transnistria[Note 19]\t475,665\tOctober 15, 2015\t0.0063%\tPreliminary 2015 census result\n",
    "168\t Malta\t434,403\tDecember 31, 2015\t0.0057%\tOfficial estimate\n",
    "169\t Brunei\t417,200\tJuly 1, 2015\t0.0055%\tOfficial estimate\n",
    "170\t Belize\t380,010\tOctober 1, 2016\t0.005%\tOfficial estimate\n",
    "171\t Bahamas\t382,460\tJuly 1, 2017\t0.005%\tOfficial projection\n",
    "172\t Iceland\t348,580\tDecember 31, 2017\t0.0046%\tOfficial quarterly estimate\n",
    "173\t Maldives\t344,023\tSeptember 20, 2014\t0.0045%\tPreliminary 2014 census result\n",
    "–\t Northern Cyprus[Note 20]\t313,626\tJune 30, 2014\t0.0041%\tOfficial estimate\n",
    "174\t Vanuatu\t289,700\tJuly 1, 2016\t0.0038%\tAnnual official estimate\n",
    "175\t Barbados\t285,719\tJuly 1, 2017\t0.0038%\tUN projection\n",
    "–\t New Caledonia (France)\t277,000\tJuly 1, 2016\t0.0036%\tAnnual official estimate\n",
    "–\t French Polynesia (France)\t275,918\tAugust 17, 2017\t0.0036%\t2017 census results\n",
    "–\t Abkhazia[Note 21]\t240,705\tFebruary 28, 2011\t0.0032%\t2011 census result\n",
    "176\t Samoa\t196,315\tJanuary 1, 2017\t0.0026%\tOfficial projection\n",
    "177\t São Tomé and Príncipe\t187,356\tMay 13, 2012\t0.0025%\t2012 census result\n",
    "178\t Saint Lucia\t178,844\tJuly 1, 2017\t0.0024%\tUN projection\n",
    "–\t Guam (U.S.)\t184,200\tJuly 1, 2015\t0.0024%\tAnnual official estimate\n",
    "–\t Curaçao (Netherlands)\t160,337\tJanuary 1, 2017\t0.0021%\tAnnual official estimate\n",
    "–\tFlag of Artsakh.svg Artsakh[Note 22]\t150,932\tDecember 1, 2015\t0.002%\tPreliminary 2015 census result\n",
    "179\t Kiribati\t115,300\tJuly 1, 2016\t0.0015%\tAnnual official estimate\n",
    "–\t Aruba (Netherlands)\t110,882\tJune 30, 2017\t0.0015%\tOfficial quarterly estimate\n",
    "180\t Saint Vincent and the Grenadines\t109,557\tJuly 1, 2015\t0.0014%\tOfficial estimate\n",
    "–\t United States Virgin Islands (U.S.)\t104,901\tJuly 1, 2017\t0.0014%\tUN projection\n",
    "181\t Federated States of Micronesia\t104,600\tJuly 1, 2016\t0.0014%\tAnnual official estimate\n",
    "–\t Jersey (UK)\t104,200\tDecember 31, 2016\t0.0014%\tAnnual official estimate\n",
    "182\t Grenada\t103,328\tMay 12, 2011\t0.0014%\t2011 census result\n",
    "183\t Tonga\t100,600\tJuly 1, 2016\t0.0013%\tAnnual official estimate\n",
    "184\t Seychelles\t94,205\tDecember 31, 2016\t0.0012%\tOfficial estimate\n",
    "185\t Antigua and Barbuda\t86,295\tMay 27, 2011\t0.0011%\tPreliminary 2011 census result\n",
    "–\t Isle of Man (UK)\t83,314\tApril 24, 2016\t0.0011%\t2016 census result\n",
    "186\t Andorra\t78,264\tDecember 31, 2016\t0.001%\tAnnual official estimate\n",
    "187\t Dominica\t71,293\tMay 14, 2011\t0.00094%\tPreliminary 2011 census result\n",
    "–\t Guernsey (UK)\t62,723\tMarch 31, 2016\t0.00083%\tOfficial estimate\n",
    "–\t Bermuda (UK)\t61,954\tJuly 1, 2013\t0.00082%\tOfficial estimate\n",
    "–\t Cayman Islands (UK)\t60,413\tDecember 31, 2015\t0.00079%\tOfficial estimate\n",
    "–\t American Samoa (U.S.)\t56,400\tJuly 1, 2016\t0.00074%\tAnnual official estimate\n",
    "–\t Greenland (Denmark)\t56,171\tJuly 1, 2017\t0.00074%\tofficial estimate\n",
    "–\t Northern Mariana Islands (U.S.)\t55,700\tJuly 1, 2016\t0.00073%\tAnnual official estimate\n",
    "188\t Marshall Islands\t55,000\tJuly 1, 2016\t0.00072%\tAnnual official estimate\n",
    "–\t South Ossetia[Note 23]\t53,532\tOctober 15, 2015\t0.0007%\tPreliminary 2015 census result\n",
    "–\t Faroe Islands (Denmark)\t50,437\tDecember 1, 2017\t0.00066%\tMonthly official estimate\n",
    "189\t Saint Kitts and Nevis\t46,204\tMay 15, 2011\t0.00061%\t2011 census result\n",
    "–\t Sint Maarten (Netherlands)\t39,410\tJanuary 1, 2016\t0.00052%\tOfficial estimate\n",
    "–\t Turks and Caicos Islands (UK)\t37,910\tJuly 1, 2016\t0.0005%\tOfficial estimate\n",
    "190\t Liechtenstein\t37,877\tJune 30, 2017\t0.0005%\tSemi annual official estimate\n",
    "191\t Monaco\t37,550\tDecember 31, 2016\t0.00049%\tAnnual official estimate\n",
    "–\tFlag of France.svg Saint-Martin (France)\t36,457\tJanuary 1, 2015\t0.00048%\tAnnual official estimate\n",
    "192\t San Marino\t33,290\tOctober 31, 2017\t0.00044%\tMonthly official estimate\n",
    "–\t Gibraltar (UK)\t33,140\tDecember 31, 2014\t0.00044%\tAnnual official estimate\n",
    "–\t British Virgin Islands (UK)\t28,514\tJuly 1, 2013\t0.00038%\tOfficial estimate\n",
    "–\t Cook Islands (NZ)\t18,100\tMarch 1, 2016\t0.00024%\tOfficial quarterly estimate\n",
    "193\t Palau\t17,800\tJuly 1, 2016\t0.00023%\tAnnual official estimate\n",
    "–\t Anguilla (UK)\t13,452\tMay 11, 2011\t0.00018%\tPreliminary 2011 census result\n",
    "–\t Wallis and Futuna (France)\t11,800\tJuly 1, 2016\t0.00016%\tAnnual official estimate\n",
    "194\t Nauru\t10,800\tJuly 1, 2016\t0.00014%\tAnnual official estimate\n",
    "195\t Tuvalu\t10,100\tJuly 1, 2016\t0.00013%\tAnnual official estimate\n",
    "–\t Saint Barthélemy (France)\t9,417\tJanuary 1, 2015\t0.00012%\tAnnual official estimate\n",
    "–\t Saint Pierre and Miquelon (France)\t6,286\tJanuary 1, 2015\t0.000083%\tAnnual official estimate\n",
    "–\tFlag of Saint Helena.svg Saint Helena, Ascension and Tristan da Cunha (UK)\t5,633\tFebruary 7, 2016\t0.000074%\t2016 census result\n",
    "–\t Montserrat (UK)\t4,922\tMay 12, 2011\t0.000065%\t2011 census result\n",
    "–\t Falkland Islands (UK)\t2,563\tApril 15, 2012\t0.000034%\t2012 census result\n",
    "–\t Norfolk Island (Australia)\t2,302\tAugust 9, 2011\t0.000030%\t2011 census result\n",
    "–\t Christmas Island (Australia)\t2,072\tAugust 9, 2011\t0.000027%\t2011 census result\n",
    "–\t Niue (NZ)\t1,470\tJuly 1, 2015\t0.00002%\tAnnual official estimate\n",
    "–\t Tokelau (NZ)\t1,411\tOctober 18, 2011\t0.000019%\t2011 census result \n",
    "196\t Vatican City\t800\tJanuary 1, 2014\t0.000011%\tOfficial estimate\n",
    "–\t Cocos (Keeling) Islands (Australia)\t550\tAugust 9, 2011\t0.0000072%\t2011 census result\n",
    "–\t Pitcairn Islands (UK)\t50\tJanuary 1, 2018\t0.00000066%\tOfficial estimate\"\"\".split('\\n')"
   ]
  },
  {
   "cell_type": "markdown",
   "metadata": {},
   "source": [
    "Для простоты при объединении наборов данных ограничьтесь странами, число участников в которых не меньше ста."
   ]
  },
  {
   "cell_type": "code",
   "execution_count": null,
   "metadata": {
    "collapsed": true
   },
   "outputs": [],
   "source": [
    "country_progers = dict(public_csv.groupby('Country')['Country'].agg(len))\n",
    "allcountry_progers = dict(filter(lambda x:x[1] > 0, country_progers.items()))\n",
    "country_progers = dict(filter(lambda x:x[1] > 100, country_progers.items()))\n",
    "del country_progers['I prefer not to say'], allcountry_progers['I prefer not to say']"
   ]
  },
  {
   "cell_type": "code",
   "execution_count": null,
   "metadata": {
    "collapsed": true
   },
   "outputs": [],
   "source": [
    "def foo(s):\n",
    "    if s.find('[') != -1:\n",
    "        return s[1:s.find('[')]\n",
    "    else:\n",
    "        return s[1:]\n",
    "    \n",
    "    \n",
    "county_population = {foo(i.split('\\t')[1]):int(i.split('\\t')[2].replace(',','')) for i in table}\n",
    "clst = public_csv['Country'].unique()\n",
    "\n",
    "for k in country_progers.keys():\n",
    "    if not k in county_population:\n",
    "        print(k)\n",
    "final_peoples = {}\n",
    "\n",
    "for country, num_prog in country_progers.items():\n",
    "    population = county_population[country]\n",
    "    final_peoples[country] = num_prog / population\n",
    "    \n",
    "df = pd.DataFrame(list(final_peoples.items()), columns=['Country', 'Ratio'])\n",
    "df['Progers'] = [country_progers[k] for k in df['Country']]\n",
    "df['Population'] = [county_population[k] for k in df['Country']]\n",
    "df.index = df['Country']\n",
    "del df['Country']"
   ]
  },
  {
   "cell_type": "markdown",
   "metadata": {},
   "source": [
    "Сосчитайте и выведите 10 стран для которых отношение числа респондентов к населению страны наибольшее"
   ]
  },
  {
   "cell_type": "code",
   "execution_count": null,
   "metadata": {},
   "outputs": [],
   "source": [
    "df.sort_values(['Ratio'])[::-1][:10]"
   ]
  },
  {
   "cell_type": "markdown",
   "metadata": {},
   "source": [
    "## 4. \n"
   ]
  },
  {
   "cell_type": "markdown",
   "metadata": {},
   "source": [
    "Покажите, какими системами управления версиями (колонка VersionControl) пользуются участники опроса (упорядочите их по количеству ответов)"
   ]
  },
  {
   "cell_type": "code",
   "execution_count": null,
   "metadata": {},
   "outputs": [],
   "source": [
    "public_csv[['VersionControl', 'Respondent']].groupby('VersionControl').agg(len).sort_values('Respondent')[::-1]"
   ]
  },
  {
   "cell_type": "markdown",
   "metadata": {},
   "source": [
    "## 5-6.\n"
   ]
  },
  {
   "cell_type": "code",
   "execution_count": null,
   "metadata": {
    "collapsed": true
   },
   "outputs": [],
   "source": [
    "languages = Counter()\n",
    "for i in public_csv['HaveWorkedLanguage']:\n",
    "    if type(i) == type(1.0):\n",
    "        continue\n",
    "    for w in i.split('; '):\n",
    "        languages[w]+=1"
   ]
  },
  {
   "cell_type": "markdown",
   "metadata": {},
   "source": [
    "Пожалуйста, создайте новую переменную, в которой будет содержаться список всех языков, встречавшихся среди ответов."
   ]
  },
  {
   "cell_type": "code",
   "execution_count": null,
   "metadata": {},
   "outputs": [],
   "source": [
    "languageslist = list(languages.keys())\n",
    "languageslist"
   ]
  },
  {
   "cell_type": "markdown",
   "metadata": {},
   "source": [
    "Покажите 10 наиболее популярных. Есть ли среди них Python? (Есть)"
   ]
  },
  {
   "cell_type": "code",
   "execution_count": null,
   "metadata": {},
   "outputs": [],
   "source": [
    "pd.DataFrame.from_dict(sorted(languages.items(), \n",
    "                              key = lambda x:-x[1])[:10]).rename(columns={0: 'Language', 1: 'Progers'})"
   ]
  },
  {
   "cell_type": "markdown",
   "metadata": {},
   "source": [
    "## 7."
   ]
  },
  {
   "cell_type": "markdown",
   "metadata": {},
   "source": [
    "Какие языки программирования популярны в разных странах?"
   ]
  },
  {
   "cell_type": "code",
   "execution_count": null,
   "metadata": {
    "collapsed": true
   },
   "outputs": [],
   "source": [
    "def mostlanguage(massive,ignore = False):\n",
    "    final_res = {}\n",
    "    num = 0\n",
    "    for k, val in sorted(massive.items(), key = lambda x:-x[1]):\n",
    "        df = public_csv[public_csv['Country'] == k]\n",
    "        lanquages = Counter()\n",
    "        for i in df['HaveWorkedLanguage']:\n",
    "            if type(i) == type(1.0):\n",
    "                continue\n",
    "            for w in i.split('; '):\n",
    "                lanquages[w] += 1\n",
    "        final_res[k] = max(lanquages.items(), key = lambda x:x[1])[0]\n",
    "        if final_res[k] != 'JavaScript' and ignore:\n",
    "            print(k+' ' * (27 - len(k)) + final_res[k])\n",
    "            num +=1\n",
    "        elif not ignore:\n",
    "            print(k+' ' * (27 - len(k)) + final_res[k])\n",
    "            num += 1\n",
    "        if num == 10:\n",
    "            break"
   ]
  },
  {
   "cell_type": "markdown",
   "metadata": {},
   "source": [
    "Выведите его для 10 стран с наибольшим числом респондентов"
   ]
  },
  {
   "cell_type": "code",
   "execution_count": null,
   "metadata": {},
   "outputs": [],
   "source": [
    "mostlanguage(country_progers)"
   ]
  },
  {
   "cell_type": "markdown",
   "metadata": {},
   "source": [
    "Найдите страну с наибольшим числом участников опроса, где наиболее популярным языком не является Javascript (South Korea)"
   ]
  },
  {
   "cell_type": "code",
   "execution_count": null,
   "metadata": {},
   "outputs": [],
   "source": [
    "mostlanguage(allcountry_progers, ignore = True)"
   ]
  },
  {
   "cell_type": "markdown",
   "metadata": {},
   "source": [
    "## 8."
   ]
  },
  {
   "cell_type": "markdown",
   "metadata": {},
   "source": [
    "Придумайте интересный для вас вопрос, относящийся к исследуемому набору данных, и ответьте на него."
   ]
  },
  {
   "cell_type": "markdown",
   "metadata": {},
   "source": [
    "Как сильно влияет распределение зарплат от пола, если он не является ни женским, ни мужским?"
   ]
  },
  {
   "cell_type": "markdown",
   "metadata": {},
   "source": [
    "Видим, что помимо мужского и женского пола есть много других видов ответов"
   ]
  },
  {
   "cell_type": "code",
   "execution_count": null,
   "metadata": {},
   "outputs": [],
   "source": [
    "Counter(public_csv['Gender'])"
   ]
  },
  {
   "cell_type": "markdown",
   "metadata": {},
   "source": [
    "Сортируем ответы на пол, как женский, мужской и трансгендерный. По гистограмме видно, зарплаты трансгендеров , женщин и мужчин. Можно сделать вывод, что трансгендеры в среднем получают зарплату не хуже женщин и мужчин"
   ]
  },
  {
   "cell_type": "code",
   "execution_count": null,
   "metadata": {},
   "outputs": [],
   "source": [
    "ind_tr, ind_m, ind_w = [],[],[]\n",
    "for c,i in enumerate(public_csv['Gender'].get_values()):\n",
    "    if type(i) == type(1.1):\n",
    "        continue\n",
    "    if 'transgender' in i.lower():\n",
    "        ind_tr.append(c)\n",
    "    if 'male' in i[:5].lower():\n",
    "        ind_m.append(c)\n",
    "    if 'female' in i.lower():\n",
    "        ind_w.append(c)\n",
    "\n",
    "\n",
    "plt.hist(public_csv.iloc[ind_tr]['Salary'].dropna(), label = 'Transgender', normed = True, alpha = 0.5, bins = 50)\n",
    "plt.hist(public_csv.iloc[ind_m]['Salary'].dropna(), label = 'Male', normed = True, alpha = 0.5, bins = 50)\n",
    "plt.hist(public_csv.iloc[ind_w]['Salary'].dropna(), label = 'Female', normed = True, alpha = 0.5, bins = 50)\n",
    "plt.legend()\n",
    "plt.show()"
   ]
  },
  {
   "cell_type": "code",
   "execution_count": null,
   "metadata": {},
   "outputs": [],
   "source": [
    "sys.stdout.write('Средняя зарплата женщин:\\n%d $\\\n",
    "                 \\nCредняя зарплата мужчин:\\n%d $ \\\n",
    "                 \\nСредняя зарплата трансгендеров:\\n%d $\\\n",
    "                 '%(np.mean(public_csv.iloc[ind_w]['Salary'].dropna()),\n",
    "                    np.mean(public_csv.iloc[ind_m]['Salary'].dropna()),\n",
    "                    np.mean(public_csv.iloc[ind_tr]['Salary'].dropna())))\n"
   ]
  },
  {
   "cell_type": "markdown",
   "metadata": {},
   "source": [
    "## Приложение"
   ]
  },
  {
   "cell_type": "code",
   "execution_count": 21,
   "metadata": {
    "collapsed": true
   },
   "outputs": [],
   "source": [
    "from bs4 import BeautifulSoup\n",
    "url = \"https://en.wikipedia.org/wiki/List_of_countries_and_dependencies_by_population\"\n",
    "soup = BeautifulSoup(urllib.request.urlopen(url).read().decode('utf-8'))\n",
    "tables = soup.findAll(\"table\", { \"class\" : \"wikitable\" })\n",
    "\n",
    "for tn in range(len(tables)):\n",
    "    row_len = [len(r.findAll(['th','td'])) for r in tables[tn].findAll(\"tr\")]\n",
    "    wikitable = []\n",
    "    for i in range(len(tables[tn].findAll(\"tr\"))):\n",
    "        row = []\n",
    "        for j in range(max(row_len)):\n",
    "            row.append('')\n",
    "        wikitable.append(row)\n",
    "    for i in range(len(tables[tn].findAll(\"tr\"))):\n",
    "        row = []\n",
    "        cells = tables[tn].findAll(\"tr\")[i].findAll([\"td\", \"th\"])\n",
    "        for j in range(len(cells)):\n",
    "            for k in range(int(cells[j].get('rowspan',1))):\n",
    "                for l in range(int(cells[j].get('colspan',1))):\n",
    "                    wikitable[i+k][j+l] += cells[j].text\n",
    "        wikitable.append(row)"
   ]
  },
  {
   "cell_type": "code",
   "execution_count": 22,
   "metadata": {},
   "outputs": [
    {
     "data": {
      "text/plain": [
       "Country\n",
       " China[Note 2]            1,389,190,000\n",
       " India[Note 3]            1,327,810,000\n",
       " United States[Note 4]      326,615,000\n",
       " Indonesia                  261,890,900\n",
       " Pakistan                   210,564,000\n",
       "Name: Population, dtype: object"
      ]
     },
     "execution_count": 22,
     "metadata": {},
     "output_type": "execute_result"
    }
   ],
   "source": [
    "popinf = pd.DataFrame(wikitable[1:],columns=['-', 'Country', 'Population','-','-','-'])\n",
    "popinf.index = popinf['Country']\n",
    "popinf['Population'].head()"
   ]
  }
 ],
 "metadata": {
  "kernelspec": {
   "display_name": "Python 3",
   "language": "python",
   "name": "python3"
  },
  "language_info": {
   "codemirror_mode": {
    "name": "ipython",
    "version": 3
   },
   "file_extension": ".py",
   "mimetype": "text/x-python",
   "name": "python",
   "nbconvert_exporter": "python",
   "pygments_lexer": "ipython3",
   "version": "3.6.1"
  }
 },
 "nbformat": 4,
 "nbformat_minor": 2
}
